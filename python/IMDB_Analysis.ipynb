{
 "cells": [
  {
   "cell_type": "markdown",
   "metadata": {},
   "source": [
    "# Analisando os filmes do IMDB"
   ]
  },
  {
   "cell_type": "code",
   "execution_count": 137,
   "metadata": {},
   "outputs": [],
   "source": [
    "import matplotlib.pyplot as plt\n",
    "import re\n",
    "from functools import reduce\n",
    "from pymongo import MongoClient\n",
    "\n",
    "db_client = MongoClient('mongo', 27017)\n",
    "db = db_client.imdb_data"
   ]
  },
  {
   "cell_type": "markdown",
   "metadata": {},
   "source": [
    "## Sobre os dados obtidos "
   ]
  },
  {
   "cell_type": "markdown",
   "metadata": {},
   "source": [
    "### Genêro dos filmes"
   ]
  },
  {
   "cell_type": "code",
   "execution_count": 183,
   "metadata": {},
   "outputs": [
    {
     "data": {
      "image/png": "[encoded data removed]",
      "text/plain": [
       "<Figure size 640x480 with 1 Axes>"
      ]
     },
     "metadata": {},
     "output_type": "display_data"
    }
   ],
   "source": [
    "genres = db.movies_data.distinct(\"genres\")\n",
    "data = {}\n",
    "\n",
    "for genre in genres:\n",
    "    data[genre] = db.movies_data.count_documents({ \"genres\" : genre})\n",
    "\n",
    "names = list(data.keys())\n",
    "values = list(data.values())    \n",
    "    \n",
    "fig = plt.bar(names, values)"
   ]
  },
  {
   "cell_type": "markdown",
   "metadata": {},
   "source": [
    "# Respostas"
   ]
  },
  {
   "cell_type": "markdown",
   "metadata": {},
   "source": [
    "## Qual a probabilidade de uma mulher ser diretora do filme?"
   ]
  },
  {
   "cell_type": "code",
   "execution_count": 102,
   "metadata": {},
   "outputs": [
    {
     "name": "stdout",
     "output_type": "stream",
     "text": [
      "7.000000000000001%\n"
     ]
    }
   ],
   "source": [
    "pipeline = [{'$lookup': \n",
    "                {'from' : 'directors_data',\n",
    "                 'localField' : 'directors_ids',\n",
    "                 'foreignField' : 'id',\n",
    "                 'as' : 'directors'}},\n",
    "            {'$unwind': '$directors'},\n",
    "             {'$match':\n",
    "                 { 'directors.gender' : 'Female'}},\n",
    "             {'$project': \n",
    "                {'title':1, 'directors.name':1, 'directors.gender' : 1, \"_id\": 0}} \n",
    "             ]\n",
    "female_movies = 0\n",
    "for movie in db.movies_data.aggregate(pipeline):\n",
    "    female_movies += 1\n",
    "total_movies = db.movies_data.count_documents({})\n",
    "\n",
    "percentage = female_movies / total_movies * 100\n",
    "\n",
    "print(\"{}%\".format(percentage))"
   ]
  },
  {
   "cell_type": "markdown",
   "metadata": {},
   "source": [
    "## Qual o tempo de duração médio dos filmes obtidos?"
   ]
  },
  {
   "cell_type": "code",
   "execution_count": 131,
   "metadata": {},
   "outputs": [
    {
     "name": "stdout",
     "output_type": "stream",
     "text": [
      "122.96\n"
     ]
    }
   ],
   "source": [
    "total_runtime = db.movies_data.aggregate([{ '$group': {\n",
    "                                '_id' : 0 , 'sum': { '$sum': \"$runtime\" } \n",
    "                            }},\n",
    "                          {'$project': { 'sum': 1, '_id': 0 }}\n",
    "                         ])\n",
    "total_movies = db.movies_data.count_documents({})\n",
    "for total in total_runtime :\n",
    "    avg = total['sum']/ total_movies\n",
    "\n",
    "print(avg)"
   ]
  },
  {
   "cell_type": "markdown",
   "metadata": {},
   "source": [
    "## Qual a probabilidade de cada filme em seu gênero ter uma avaliação superior a 8?\n"
   ]
  },
  {
   "cell_type": "code",
   "execution_count": null,
   "metadata": {},
   "outputs": [],
   "source": []
  },
  {
   "cell_type": "markdown",
   "metadata": {},
   "source": [
    "## Qual a probabilidade de um filme ter avaliação superior a 8, considerando que ele não possui um diretor americano?\n"
   ]
  },
  {
   "cell_type": "code",
   "execution_count": 180,
   "metadata": {},
   "outputs": [
    {
     "name": "stdout",
     "output_type": "stream",
     "text": [
      "50.0%\n"
     ]
    }
   ],
   "source": [
    "pipeline = [{'$lookup': \n",
    "                {'from' : 'directors_data',\n",
    "                 'localField' : 'directors_ids',\n",
    "                 'foreignField' : 'id',\n",
    "                 'as' : 'directors'}},\n",
    "            {'$unwind': '$directors'},\n",
    "             {'$match':\n",
    "                 { 'imdb_rating': { '$gte' : 8} ,\n",
    "                  'directors.nationality' : {'$not' : re.compile(\"USA|Unknown\")} ,\n",
    "                 }\n",
    "             },\n",
    "                {'$count': 'title'},\n",
    "             {'$project': \n",
    "                {'title': 1, \"_id\": 0}} \n",
    "             ]\n",
    "for movies in db.movies_data.aggregate(pipeline):\n",
    "    intersection = movies['title']\n",
    "gte_than_eight = db.movies_data.count_documents({ 'imdb_rating': { '$gte' : 8} })\n",
    "probability = intersection/gte_than_eight*100\n",
    "\n",
    "print(\"{}%\".format(probability))"
   ]
  },
  {
   "cell_type": "markdown",
   "metadata": {},
   "source": [
    "## Quais são os diretores preferidos?\n"
   ]
  },
  {
   "cell_type": "code",
   "execution_count": null,
   "metadata": {},
   "outputs": [],
   "source": []
  }
 ],
 "metadata": {
  "kernelspec": {
   "display_name": "Python 3",
   "language": "python",
   "name": "python3"
  },
  "language_info": {
   "codemirror_mode": {
    "name": "ipython",
    "version": 3
   },
   "file_extension": ".py",
   "mimetype": "text/x-python",
   "name": "python",
   "nbconvert_exporter": "python",
   "pygments_lexer": "ipython3",
   "version": "3.5.2"
  }
 },
 "nbformat": 4,
 "nbformat_minor": 2
}
